{
  "nbformat": 4,
  "nbformat_minor": 0,
  "metadata": {
    "colab": {
      "name": "GraphSage.ipynb",
      "provenance": [],
      "authorship_tag": "ABX9TyM2FOcnQGCDBE6rhcBdsHRL",
      "include_colab_link": true
    },
    "kernelspec": {
      "name": "python3",
      "display_name": "Python 3"
    },
    "language_info": {
      "name": "python"
    }
  },
  "cells": [
    {
      "cell_type": "markdown",
      "metadata": {
        "id": "view-in-github",
        "colab_type": "text"
      },
      "source": [
        "<a href=\"https://colab.research.google.com/github/truongdx5/KGCN/blob/master/GraphSage.ipynb\" target=\"_parent\"><img src=\"https://colab.research.google.com/assets/colab-badge.svg\" alt=\"Open In Colab\"/></a>"
      ]
    },
    {
      "cell_type": "code",
      "metadata": {
        "colab": {
          "base_uri": "https://localhost:8080/"
        },
        "id": "Q4uvWmdYLsOz",
        "outputId": "498c59a1-f1e4-42e8-a569-dfedf29aced1"
      },
      "source": [
        "!pip install torch"
      ],
      "execution_count": null,
      "outputs": [
        {
          "output_type": "stream",
          "text": [
            "Requirement already satisfied: torch in /usr/local/lib/python3.7/dist-packages (1.9.0+cu102)\n",
            "Requirement already satisfied: typing-extensions in /usr/local/lib/python3.7/dist-packages (from torch) (3.7.4.3)\n"
          ],
          "name": "stdout"
        }
      ]
    },
    {
      "cell_type": "code",
      "metadata": {
        "id": "ZipdrFIdL0XZ"
      },
      "source": [
        "import torch\n",
        "def format_pytorch_version(version):\n",
        "  return version.split('+')[0]\n",
        "\n",
        "TORCH_version = torch.__version__\n",
        "TORCH = format_pytorch_version(TORCH_version)\n",
        "\n",
        "def format_cuda_version(version):\n",
        "  return 'cu' + version.replace('.', '')\n",
        "\n",
        "CUDA_version = torch.version.cuda\n",
        "CUDA = format_cuda_version(CUDA_version)"
      ],
      "execution_count": null,
      "outputs": []
    },
    {
      "cell_type": "code",
      "metadata": {
        "colab": {
          "base_uri": "https://localhost:8080/"
        },
        "id": "3LLcVvYQMOt6",
        "outputId": "00746d30-74c8-4bdb-bf97-18a189d92b25"
      },
      "source": [
        "!pip install torch-scatter     -f https://pytorch-geometric.com/whl/torch-{TORCH}+{CUDA}.html"
      ],
      "execution_count": null,
      "outputs": [
        {
          "output_type": "stream",
          "text": [
            "Looking in links: https://pytorch-geometric.com/whl/torch-1.9.0+cu102.html\n",
            "Collecting torch-scatter\n",
            "  Downloading https://pytorch-geometric.com/whl/torch-1.9.0%2Bcu102/torch_scatter-2.0.8-cp37-cp37m-linux_x86_64.whl (3.0 MB)\n",
            "\u001b[K     |████████████████████████████████| 3.0 MB 2.6 MB/s \n",
            "\u001b[?25hInstalling collected packages: torch-scatter\n",
            "Successfully installed torch-scatter-2.0.8\n"
          ],
          "name": "stdout"
        }
      ]
    },
    {
      "cell_type": "code",
      "metadata": {
        "colab": {
          "base_uri": "https://localhost:8080/"
        },
        "id": "uBIem1vHMaog",
        "outputId": "b8fb3f44-54e5-4d38-a538-197fddbfb2eb"
      },
      "source": [
        "!pip install torch-sparse      -f https://pytorch-geometric.com/whl/torch-{TORCH}+{CUDA}.html\n",
        "!pip install torch-cluster     -f https://pytorch-geometric.com/whl/torch-{TORCH}+{CUDA}.html\n",
        "!pip install torch-spline-conv -f https://pytorch-geometric.com/whl/torch-{TORCH}+{CUDA}.html\n",
        "!pip install torch-geometric"
      ],
      "execution_count": null,
      "outputs": [
        {
          "output_type": "stream",
          "text": [
            "Looking in links: https://pytorch-geometric.com/whl/torch-1.9.0+cu102.html\n",
            "Collecting torch-sparse\n",
            "  Downloading https://pytorch-geometric.com/whl/torch-1.9.0%2Bcu102/torch_sparse-0.6.11-cp37-cp37m-linux_x86_64.whl (1.6 MB)\n",
            "\u001b[K     |████████████████████████████████| 1.6 MB 2.5 MB/s \n",
            "\u001b[?25hRequirement already satisfied: scipy in /usr/local/lib/python3.7/dist-packages (from torch-sparse) (1.4.1)\n",
            "Requirement already satisfied: numpy>=1.13.3 in /usr/local/lib/python3.7/dist-packages (from scipy->torch-sparse) (1.19.5)\n",
            "Installing collected packages: torch-sparse\n",
            "Successfully installed torch-sparse-0.6.11\n",
            "Looking in links: https://pytorch-geometric.com/whl/torch-1.9.0+cu102.html\n",
            "Collecting torch-cluster\n",
            "  Downloading https://pytorch-geometric.com/whl/torch-1.9.0%2Bcu102/torch_cluster-1.5.9-cp37-cp37m-linux_x86_64.whl (926 kB)\n",
            "\u001b[K     |████████████████████████████████| 926 kB 2.5 MB/s \n",
            "\u001b[?25hInstalling collected packages: torch-cluster\n",
            "Successfully installed torch-cluster-1.5.9\n",
            "Looking in links: https://pytorch-geometric.com/whl/torch-1.9.0+cu102.html\n",
            "Collecting torch-spline-conv\n",
            "  Downloading https://pytorch-geometric.com/whl/torch-1.9.0%2Bcu102/torch_spline_conv-1.2.1-cp37-cp37m-linux_x86_64.whl (382 kB)\n",
            "\u001b[K     |████████████████████████████████| 382 kB 2.6 MB/s \n",
            "\u001b[?25hInstalling collected packages: torch-spline-conv\n",
            "Successfully installed torch-spline-conv-1.2.1\n",
            "Collecting torch-geometric\n",
            "  Downloading torch_geometric-1.7.2.tar.gz (222 kB)\n",
            "\u001b[K     |████████████████████████████████| 222 kB 5.3 MB/s \n",
            "\u001b[?25hRequirement already satisfied: numpy in /usr/local/lib/python3.7/dist-packages (from torch-geometric) (1.19.5)\n",
            "Requirement already satisfied: tqdm in /usr/local/lib/python3.7/dist-packages (from torch-geometric) (4.62.0)\n",
            "Requirement already satisfied: scipy in /usr/local/lib/python3.7/dist-packages (from torch-geometric) (1.4.1)\n",
            "Requirement already satisfied: networkx in /usr/local/lib/python3.7/dist-packages (from torch-geometric) (2.6.2)\n",
            "Requirement already satisfied: python-louvain in /usr/local/lib/python3.7/dist-packages (from torch-geometric) (0.15)\n",
            "Requirement already satisfied: scikit-learn in /usr/local/lib/python3.7/dist-packages (from torch-geometric) (0.22.2.post1)\n",
            "Requirement already satisfied: requests in /usr/local/lib/python3.7/dist-packages (from torch-geometric) (2.23.0)\n",
            "Requirement already satisfied: pandas in /usr/local/lib/python3.7/dist-packages (from torch-geometric) (1.1.5)\n",
            "Collecting rdflib\n",
            "  Downloading rdflib-6.0.0-py3-none-any.whl (376 kB)\n",
            "\u001b[K     |████████████████████████████████| 376 kB 43.2 MB/s \n",
            "\u001b[?25hRequirement already satisfied: googledrivedownloader in /usr/local/lib/python3.7/dist-packages (from torch-geometric) (0.4)\n",
            "Requirement already satisfied: jinja2 in /usr/local/lib/python3.7/dist-packages (from torch-geometric) (2.11.3)\n",
            "Requirement already satisfied: pyparsing in /usr/local/lib/python3.7/dist-packages (from torch-geometric) (2.4.7)\n",
            "Requirement already satisfied: MarkupSafe>=0.23 in /usr/local/lib/python3.7/dist-packages (from jinja2->torch-geometric) (2.0.1)\n",
            "Requirement already satisfied: python-dateutil>=2.7.3 in /usr/local/lib/python3.7/dist-packages (from pandas->torch-geometric) (2.8.2)\n",
            "Requirement already satisfied: pytz>=2017.2 in /usr/local/lib/python3.7/dist-packages (from pandas->torch-geometric) (2018.9)\n",
            "Requirement already satisfied: six>=1.5 in /usr/local/lib/python3.7/dist-packages (from python-dateutil>=2.7.3->pandas->torch-geometric) (1.15.0)\n",
            "Requirement already satisfied: setuptools in /usr/local/lib/python3.7/dist-packages (from rdflib->torch-geometric) (57.4.0)\n",
            "Collecting isodate\n",
            "  Downloading isodate-0.6.0-py2.py3-none-any.whl (45 kB)\n",
            "\u001b[K     |████████████████████████████████| 45 kB 2.8 MB/s \n",
            "\u001b[?25hRequirement already satisfied: idna<3,>=2.5 in /usr/local/lib/python3.7/dist-packages (from requests->torch-geometric) (2.10)\n",
            "Requirement already satisfied: certifi>=2017.4.17 in /usr/local/lib/python3.7/dist-packages (from requests->torch-geometric) (2021.5.30)\n",
            "Requirement already satisfied: chardet<4,>=3.0.2 in /usr/local/lib/python3.7/dist-packages (from requests->torch-geometric) (3.0.4)\n",
            "Requirement already satisfied: urllib3!=1.25.0,!=1.25.1,<1.26,>=1.21.1 in /usr/local/lib/python3.7/dist-packages (from requests->torch-geometric) (1.24.3)\n",
            "Requirement already satisfied: joblib>=0.11 in /usr/local/lib/python3.7/dist-packages (from scikit-learn->torch-geometric) (1.0.1)\n",
            "Building wheels for collected packages: torch-geometric\n",
            "  Building wheel for torch-geometric (setup.py) ... \u001b[?25l\u001b[?25hdone\n",
            "  Created wheel for torch-geometric: filename=torch_geometric-1.7.2-py3-none-any.whl size=388143 sha256=ec105384e2af72e06c2693a479a8f1319a3d09d5e355fb5ac708c176b850aa66\n",
            "  Stored in directory: /root/.cache/pip/wheels/55/93/b6/2eeb0465afe89aee74d7a07a606e9770466d7565abd45a99d5\n",
            "Successfully built torch-geometric\n",
            "Installing collected packages: isodate, rdflib, torch-geometric\n",
            "Successfully installed isodate-0.6.0 rdflib-6.0.0 torch-geometric-1.7.2\n"
          ],
          "name": "stdout"
        }
      ]
    },
    {
      "cell_type": "code",
      "metadata": {
        "id": "iAYVsJPMMjXB"
      },
      "source": [
        "from torch_geometric.datasets import Planetoid\n",
        "import torch"
      ],
      "execution_count": null,
      "outputs": []
    },
    {
      "cell_type": "code",
      "metadata": {
        "id": "MjaqdnKsMsPZ"
      },
      "source": [
        "import torch\n",
        "import torch.nn as nn\n",
        "import torch.nn.functional as F\n",
        "from torch_geometric.nn import GCNConv\n",
        "from torch_geometric.nn import SAGEConv"
      ],
      "execution_count": null,
      "outputs": []
    },
    {
      "cell_type": "code",
      "metadata": {
        "colab": {
          "base_uri": "https://localhost:8080/"
        },
        "id": "qQl4jI3QMlMq",
        "outputId": "beb5b77f-feb4-4bd0-d0d8-d767c50e49e7"
      },
      "source": [
        "#dataset_cora = Planetoid(root='./cora/', name='Cora')\n",
        "#dataset_cora = Planetoid(root='./citeseer',name='Citeseer')\n",
        "dataset_cora = Planetoid(root='./pubmed/',name='Pubmed')\n",
        "print(dataset_cora)"
      ],
      "execution_count": null,
      "outputs": [
        {
          "output_type": "stream",
          "text": [
            "Downloading https://github.com/kimiyoung/planetoid/raw/master/data/ind.pubmed.x\n",
            "Downloading https://github.com/kimiyoung/planetoid/raw/master/data/ind.pubmed.tx\n",
            "Downloading https://github.com/kimiyoung/planetoid/raw/master/data/ind.pubmed.allx\n",
            "Downloading https://github.com/kimiyoung/planetoid/raw/master/data/ind.pubmed.y\n",
            "Downloading https://github.com/kimiyoung/planetoid/raw/master/data/ind.pubmed.ty\n",
            "Downloading https://github.com/kimiyoung/planetoid/raw/master/data/ind.pubmed.ally\n",
            "Downloading https://github.com/kimiyoung/planetoid/raw/master/data/ind.pubmed.graph\n",
            "Downloading https://github.com/kimiyoung/planetoid/raw/master/data/ind.pubmed.test.index\n",
            "Processing...\n",
            "Done!\n",
            "Pubmed()\n"
          ],
          "name": "stdout"
        }
      ]
    },
    {
      "cell_type": "code",
      "metadata": {
        "id": "dV2Tkn7YMxIh"
      },
      "source": [
        "class Net(nn.Module):\n",
        "    def __init__(self):\n",
        "        super(Net, self).__init__()\n",
        "        self.conv1 = SAGEConv(dataset_cora.num_node_features, 16)\n",
        "        self.conv2 = SAGEConv(16, dataset_cora.num_classes)\n",
        "\n",
        "    def forward(self, data):\n",
        "        x, edge_index = data.x, data.edge_index\n",
        "        x = self.conv1(x, edge_index)\n",
        "        x = F.relu(x)\n",
        "        x = F.dropout(x, training=self.training)\n",
        "        x = self.conv2(x, edge_index)\n",
        "        x = F.softmax(x, dim=1)\n",
        "\n",
        "        return x"
      ],
      "execution_count": null,
      "outputs": []
    },
    {
      "cell_type": "code",
      "metadata": {
        "colab": {
          "base_uri": "https://localhost:8080/"
        },
        "id": "csFuRB3VM30K",
        "outputId": "c4a5316c-10c2-463e-ceee-29c885f5fdaf"
      },
      "source": [
        "model = Net()\n",
        "print(model)"
      ],
      "execution_count": null,
      "outputs": [
        {
          "output_type": "stream",
          "text": [
            "Net(\n",
            "  (conv1): SAGEConv(500, 16)\n",
            "  (conv2): SAGEConv(16, 3)\n",
            ")\n"
          ],
          "name": "stdout"
        }
      ]
    },
    {
      "cell_type": "code",
      "metadata": {
        "colab": {
          "base_uri": "https://localhost:8080/"
        },
        "id": "rWhARgBkM6vg",
        "outputId": "84faa297-4887-49e1-c54d-d0d7f106b11d"
      },
      "source": [
        "device = torch.device('cuda' if torch.cuda.is_available() else 'cpu')\n",
        "print(device)\n",
        "model.to(device)\n",
        "data = dataset_cora[0].to(device)\n",
        "print(data)"
      ],
      "execution_count": null,
      "outputs": [
        {
          "output_type": "stream",
          "text": [
            "cpu\n",
            "Data(edge_index=[2, 88648], test_mask=[19717], train_mask=[19717], val_mask=[19717], x=[19717, 500], y=[19717])\n"
          ],
          "name": "stdout"
        }
      ]
    },
    {
      "cell_type": "code",
      "metadata": {
        "id": "-aUL4dV5M9SR"
      },
      "source": [
        "import torch.optim as optim\n",
        "criterion = nn.CrossEntropyLoss().to(device)\n",
        "optimizer = optim.Adam(model.parameters(), lr=0.01, weight_decay=5e-4)"
      ],
      "execution_count": null,
      "outputs": []
    },
    {
      "cell_type": "code",
      "metadata": {
        "colab": {
          "base_uri": "https://localhost:8080/"
        },
        "id": "QY5FyE5fNBZh",
        "outputId": "3bf6067b-e36a-47b9-97b8-2574ae55814a"
      },
      "source": [
        "Epoch = []\n",
        "train_loss = []\n",
        "train_acc = []\n",
        "val_loss = []\n",
        "val_acc = []\n",
        "\n",
        "\n",
        "model.train()\n",
        "for epoch in range(380):\n",
        "    out = model(data)\n",
        "    loss = criterion(out[data.train_mask], data.y[data.train_mask])\n",
        "    loss_val = criterion(out[data.val_mask], data.y[data.val_mask])\n",
        "    loss_total = loss.add(loss_val)\n",
        "\n",
        "    optimizer.zero_grad()\n",
        "    loss_total.backward()\n",
        "    optimizer.step()\n",
        "\n",
        "    _, pred = torch.max(out[data.train_mask], dim=1)\n",
        "    correct = (pred == data.y[data.train_mask]).sum().item()\n",
        "    acc = correct/data.train_mask.sum().item()\n",
        "\n",
        "    _, pred_val = torch.max(out[data.val_mask], dim=1)\n",
        "    correct_val = (pred_val == data.y[data.val_mask]).sum().item()\n",
        "    acc_val = correct_val/data.val_mask.sum().item()\n",
        "    train_loss.append(loss.item())\n",
        "    train_acc.append(acc)\n",
        "    val_loss.append(loss_val.item())\n",
        "    val_acc.append(acc_val)\n",
        "    Epoch.append(epoch)\n",
        "\n",
        "    print('Epoch {:03d} train_loss: {:.4f} train_acc: {:.4f}  val_loss: {:.4f} val_acc: {:.4f}'.format( epoch, loss.item(), acc,loss_val.item(), acc_val))"
      ],
      "execution_count": null,
      "outputs": [
        {
          "output_type": "stream",
          "text": [
            "Epoch 000 train_loss: 1.0992 train_acc: 0.3333  val_loss: 1.1020 val_acc: 0.1960\n",
            "Epoch 001 train_loss: 1.0963 train_acc: 0.4500  val_loss: 1.0968 val_acc: 0.4580\n",
            "Epoch 002 train_loss: 1.0908 train_acc: 0.5333  val_loss: 1.0919 val_acc: 0.5300\n",
            "Epoch 003 train_loss: 1.0844 train_acc: 0.6167  val_loss: 1.0852 val_acc: 0.5500\n",
            "Epoch 004 train_loss: 1.0740 train_acc: 0.7000  val_loss: 1.0760 val_acc: 0.6180\n",
            "Epoch 005 train_loss: 1.0681 train_acc: 0.6667  val_loss: 1.0681 val_acc: 0.6080\n",
            "Epoch 006 train_loss: 1.0482 train_acc: 0.7667  val_loss: 1.0575 val_acc: 0.6380\n",
            "Epoch 007 train_loss: 1.0458 train_acc: 0.6500  val_loss: 1.0497 val_acc: 0.6340\n",
            "Epoch 008 train_loss: 1.0320 train_acc: 0.7500  val_loss: 1.0400 val_acc: 0.6600\n",
            "Epoch 009 train_loss: 1.0317 train_acc: 0.7000  val_loss: 1.0295 val_acc: 0.6600\n",
            "Epoch 010 train_loss: 1.0112 train_acc: 0.7333  val_loss: 1.0206 val_acc: 0.6520\n",
            "Epoch 011 train_loss: 0.9899 train_acc: 0.8500  val_loss: 1.0093 val_acc: 0.6600\n",
            "Epoch 012 train_loss: 0.9704 train_acc: 0.8500  val_loss: 0.9950 val_acc: 0.7180\n",
            "Epoch 013 train_loss: 0.9505 train_acc: 0.8333  val_loss: 0.9807 val_acc: 0.7280\n",
            "Epoch 014 train_loss: 0.9452 train_acc: 0.8667  val_loss: 0.9686 val_acc: 0.7380\n",
            "Epoch 015 train_loss: 0.9017 train_acc: 0.9167  val_loss: 0.9533 val_acc: 0.7620\n",
            "Epoch 016 train_loss: 0.8964 train_acc: 0.8667  val_loss: 0.9376 val_acc: 0.7520\n",
            "Epoch 017 train_loss: 0.8907 train_acc: 0.8500  val_loss: 0.9329 val_acc: 0.7500\n",
            "Epoch 018 train_loss: 0.8809 train_acc: 0.8000  val_loss: 0.9085 val_acc: 0.7620\n",
            "Epoch 019 train_loss: 0.8444 train_acc: 0.8500  val_loss: 0.9142 val_acc: 0.7540\n",
            "Epoch 020 train_loss: 0.8257 train_acc: 0.8833  val_loss: 0.8992 val_acc: 0.7740\n",
            "Epoch 021 train_loss: 0.7745 train_acc: 0.9500  val_loss: 0.8758 val_acc: 0.7880\n",
            "Epoch 022 train_loss: 0.7916 train_acc: 0.9167  val_loss: 0.8702 val_acc: 0.7560\n",
            "Epoch 023 train_loss: 0.7767 train_acc: 0.8667  val_loss: 0.8666 val_acc: 0.7780\n",
            "Epoch 024 train_loss: 0.7577 train_acc: 0.9167  val_loss: 0.8427 val_acc: 0.8060\n",
            "Epoch 025 train_loss: 0.7540 train_acc: 0.8333  val_loss: 0.8354 val_acc: 0.7880\n",
            "Epoch 026 train_loss: 0.7102 train_acc: 0.9333  val_loss: 0.8229 val_acc: 0.7840\n",
            "Epoch 027 train_loss: 0.7410 train_acc: 0.8833  val_loss: 0.8246 val_acc: 0.7940\n",
            "Epoch 028 train_loss: 0.7046 train_acc: 0.9333  val_loss: 0.8066 val_acc: 0.7920\n",
            "Epoch 029 train_loss: 0.6982 train_acc: 0.9000  val_loss: 0.7956 val_acc: 0.8320\n",
            "Epoch 030 train_loss: 0.6797 train_acc: 0.9167  val_loss: 0.7948 val_acc: 0.8160\n",
            "Epoch 031 train_loss: 0.6741 train_acc: 0.9500  val_loss: 0.7864 val_acc: 0.8160\n",
            "Epoch 032 train_loss: 0.6696 train_acc: 0.9167  val_loss: 0.7804 val_acc: 0.7940\n",
            "Epoch 033 train_loss: 0.6827 train_acc: 0.9167  val_loss: 0.7734 val_acc: 0.8220\n",
            "Epoch 034 train_loss: 0.6669 train_acc: 0.9333  val_loss: 0.7645 val_acc: 0.8260\n",
            "Epoch 035 train_loss: 0.6347 train_acc: 0.9667  val_loss: 0.7624 val_acc: 0.8460\n",
            "Epoch 036 train_loss: 0.6324 train_acc: 0.9500  val_loss: 0.7566 val_acc: 0.8380\n",
            "Epoch 037 train_loss: 0.6356 train_acc: 0.9833  val_loss: 0.7649 val_acc: 0.8120\n",
            "Epoch 038 train_loss: 0.6238 train_acc: 0.9833  val_loss: 0.7462 val_acc: 0.8540\n",
            "Epoch 039 train_loss: 0.6461 train_acc: 0.9500  val_loss: 0.7471 val_acc: 0.8460\n",
            "Epoch 040 train_loss: 0.6171 train_acc: 0.9833  val_loss: 0.7420 val_acc: 0.8460\n",
            "Epoch 041 train_loss: 0.6215 train_acc: 0.9667  val_loss: 0.7402 val_acc: 0.8500\n",
            "Epoch 042 train_loss: 0.5982 train_acc: 0.9833  val_loss: 0.7278 val_acc: 0.8600\n",
            "Epoch 043 train_loss: 0.6046 train_acc: 0.9833  val_loss: 0.7313 val_acc: 0.8580\n",
            "Epoch 044 train_loss: 0.6081 train_acc: 0.9833  val_loss: 0.7251 val_acc: 0.8580\n",
            "Epoch 045 train_loss: 0.6168 train_acc: 0.9833  val_loss: 0.7142 val_acc: 0.8820\n",
            "Epoch 046 train_loss: 0.6119 train_acc: 0.9833  val_loss: 0.7221 val_acc: 0.8720\n",
            "Epoch 047 train_loss: 0.6057 train_acc: 0.9833  val_loss: 0.7189 val_acc: 0.8680\n",
            "Epoch 048 train_loss: 0.5906 train_acc: 1.0000  val_loss: 0.7134 val_acc: 0.8680\n",
            "Epoch 049 train_loss: 0.5941 train_acc: 0.9833  val_loss: 0.7149 val_acc: 0.8640\n",
            "Epoch 050 train_loss: 0.5962 train_acc: 1.0000  val_loss: 0.7115 val_acc: 0.8780\n",
            "Epoch 051 train_loss: 0.5963 train_acc: 1.0000  val_loss: 0.7102 val_acc: 0.8660\n",
            "Epoch 052 train_loss: 0.6100 train_acc: 0.9667  val_loss: 0.6934 val_acc: 0.8980\n",
            "Epoch 053 train_loss: 0.6084 train_acc: 0.9833  val_loss: 0.7055 val_acc: 0.8880\n",
            "Epoch 054 train_loss: 0.5901 train_acc: 1.0000  val_loss: 0.6948 val_acc: 0.8980\n",
            "Epoch 055 train_loss: 0.5962 train_acc: 1.0000  val_loss: 0.7012 val_acc: 0.8900\n",
            "Epoch 056 train_loss: 0.5934 train_acc: 1.0000  val_loss: 0.7080 val_acc: 0.8780\n",
            "Epoch 057 train_loss: 0.5877 train_acc: 1.0000  val_loss: 0.6957 val_acc: 0.8960\n",
            "Epoch 058 train_loss: 0.5906 train_acc: 1.0000  val_loss: 0.6893 val_acc: 0.9040\n",
            "Epoch 059 train_loss: 0.5847 train_acc: 1.0000  val_loss: 0.6897 val_acc: 0.9020\n",
            "Epoch 060 train_loss: 0.5824 train_acc: 1.0000  val_loss: 0.6847 val_acc: 0.9180\n",
            "Epoch 061 train_loss: 0.5955 train_acc: 1.0000  val_loss: 0.6886 val_acc: 0.9040\n",
            "Epoch 062 train_loss: 0.5827 train_acc: 0.9833  val_loss: 0.6839 val_acc: 0.9040\n",
            "Epoch 063 train_loss: 0.5813 train_acc: 1.0000  val_loss: 0.6901 val_acc: 0.8980\n",
            "Epoch 064 train_loss: 0.5963 train_acc: 1.0000  val_loss: 0.6838 val_acc: 0.9040\n",
            "Epoch 065 train_loss: 0.5794 train_acc: 1.0000  val_loss: 0.6799 val_acc: 0.9180\n",
            "Epoch 066 train_loss: 0.5710 train_acc: 1.0000  val_loss: 0.6855 val_acc: 0.8980\n",
            "Epoch 067 train_loss: 0.5883 train_acc: 0.9833  val_loss: 0.6831 val_acc: 0.9040\n",
            "Epoch 068 train_loss: 0.5797 train_acc: 1.0000  val_loss: 0.6863 val_acc: 0.9060\n",
            "Epoch 069 train_loss: 0.5865 train_acc: 1.0000  val_loss: 0.6721 val_acc: 0.9160\n",
            "Epoch 070 train_loss: 0.5757 train_acc: 1.0000  val_loss: 0.6798 val_acc: 0.9140\n",
            "Epoch 071 train_loss: 0.5832 train_acc: 1.0000  val_loss: 0.6798 val_acc: 0.9120\n",
            "Epoch 072 train_loss: 0.5931 train_acc: 0.9667  val_loss: 0.6774 val_acc: 0.9120\n",
            "Epoch 073 train_loss: 0.5859 train_acc: 1.0000  val_loss: 0.6703 val_acc: 0.9340\n",
            "Epoch 074 train_loss: 0.5881 train_acc: 1.0000  val_loss: 0.6772 val_acc: 0.9080\n",
            "Epoch 075 train_loss: 0.5833 train_acc: 1.0000  val_loss: 0.6764 val_acc: 0.9100\n",
            "Epoch 076 train_loss: 0.5781 train_acc: 1.0000  val_loss: 0.6692 val_acc: 0.9180\n",
            "Epoch 077 train_loss: 0.5950 train_acc: 0.9833  val_loss: 0.6782 val_acc: 0.9120\n",
            "Epoch 078 train_loss: 0.5804 train_acc: 1.0000  val_loss: 0.6723 val_acc: 0.9240\n",
            "Epoch 079 train_loss: 0.5815 train_acc: 1.0000  val_loss: 0.6717 val_acc: 0.9120\n",
            "Epoch 080 train_loss: 0.5885 train_acc: 0.9833  val_loss: 0.6700 val_acc: 0.9220\n",
            "Epoch 081 train_loss: 0.5756 train_acc: 1.0000  val_loss: 0.6661 val_acc: 0.9280\n",
            "Epoch 082 train_loss: 0.5803 train_acc: 0.9833  val_loss: 0.6629 val_acc: 0.9320\n",
            "Epoch 083 train_loss: 0.5742 train_acc: 1.0000  val_loss: 0.6651 val_acc: 0.9240\n",
            "Epoch 084 train_loss: 0.5856 train_acc: 1.0000  val_loss: 0.6697 val_acc: 0.9200\n",
            "Epoch 085 train_loss: 0.5788 train_acc: 1.0000  val_loss: 0.6690 val_acc: 0.9220\n",
            "Epoch 086 train_loss: 0.5930 train_acc: 1.0000  val_loss: 0.6641 val_acc: 0.9280\n",
            "Epoch 087 train_loss: 0.5861 train_acc: 1.0000  val_loss: 0.6677 val_acc: 0.9260\n",
            "Epoch 088 train_loss: 0.5856 train_acc: 1.0000  val_loss: 0.6646 val_acc: 0.9240\n",
            "Epoch 089 train_loss: 0.5760 train_acc: 1.0000  val_loss: 0.6626 val_acc: 0.9240\n",
            "Epoch 090 train_loss: 0.5941 train_acc: 1.0000  val_loss: 0.6687 val_acc: 0.9160\n",
            "Epoch 091 train_loss: 0.5801 train_acc: 1.0000  val_loss: 0.6585 val_acc: 0.9340\n",
            "Epoch 092 train_loss: 0.5809 train_acc: 1.0000  val_loss: 0.6621 val_acc: 0.9240\n",
            "Epoch 093 train_loss: 0.5826 train_acc: 1.0000  val_loss: 0.6613 val_acc: 0.9340\n",
            "Epoch 094 train_loss: 0.5915 train_acc: 0.9833  val_loss: 0.6676 val_acc: 0.9240\n",
            "Epoch 095 train_loss: 0.5808 train_acc: 1.0000  val_loss: 0.6620 val_acc: 0.9280\n",
            "Epoch 096 train_loss: 0.5719 train_acc: 1.0000  val_loss: 0.6624 val_acc: 0.9220\n",
            "Epoch 097 train_loss: 0.5764 train_acc: 1.0000  val_loss: 0.6588 val_acc: 0.9280\n",
            "Epoch 098 train_loss: 0.5841 train_acc: 1.0000  val_loss: 0.6539 val_acc: 0.9260\n",
            "Epoch 099 train_loss: 0.5686 train_acc: 1.0000  val_loss: 0.6615 val_acc: 0.9240\n",
            "Epoch 100 train_loss: 0.5905 train_acc: 0.9833  val_loss: 0.6619 val_acc: 0.9280\n",
            "Epoch 101 train_loss: 0.5882 train_acc: 1.0000  val_loss: 0.6578 val_acc: 0.9320\n",
            "Epoch 102 train_loss: 0.5944 train_acc: 1.0000  val_loss: 0.6580 val_acc: 0.9260\n",
            "Epoch 103 train_loss: 0.5743 train_acc: 1.0000  val_loss: 0.6593 val_acc: 0.9300\n",
            "Epoch 104 train_loss: 0.5881 train_acc: 1.0000  val_loss: 0.6509 val_acc: 0.9340\n",
            "Epoch 105 train_loss: 0.5716 train_acc: 1.0000  val_loss: 0.6571 val_acc: 0.9280\n",
            "Epoch 106 train_loss: 0.5795 train_acc: 1.0000  val_loss: 0.6572 val_acc: 0.9360\n",
            "Epoch 107 train_loss: 0.5809 train_acc: 1.0000  val_loss: 0.6515 val_acc: 0.9380\n",
            "Epoch 108 train_loss: 0.5716 train_acc: 1.0000  val_loss: 0.6467 val_acc: 0.9480\n",
            "Epoch 109 train_loss: 0.5751 train_acc: 1.0000  val_loss: 0.6584 val_acc: 0.9240\n",
            "Epoch 110 train_loss: 0.5801 train_acc: 1.0000  val_loss: 0.6576 val_acc: 0.9320\n",
            "Epoch 111 train_loss: 0.5710 train_acc: 1.0000  val_loss: 0.6610 val_acc: 0.9180\n",
            "Epoch 112 train_loss: 0.5825 train_acc: 1.0000  val_loss: 0.6580 val_acc: 0.9220\n",
            "Epoch 113 train_loss: 0.5725 train_acc: 1.0000  val_loss: 0.6518 val_acc: 0.9280\n",
            "Epoch 114 train_loss: 0.5857 train_acc: 1.0000  val_loss: 0.6576 val_acc: 0.9280\n",
            "Epoch 115 train_loss: 0.5900 train_acc: 0.9833  val_loss: 0.6522 val_acc: 0.9340\n",
            "Epoch 116 train_loss: 0.5832 train_acc: 1.0000  val_loss: 0.6494 val_acc: 0.9420\n",
            "Epoch 117 train_loss: 0.5793 train_acc: 1.0000  val_loss: 0.6462 val_acc: 0.9400\n",
            "Epoch 118 train_loss: 0.5861 train_acc: 0.9833  val_loss: 0.6539 val_acc: 0.9320\n",
            "Epoch 119 train_loss: 0.5675 train_acc: 1.0000  val_loss: 0.6465 val_acc: 0.9480\n",
            "Epoch 120 train_loss: 0.5778 train_acc: 1.0000  val_loss: 0.6452 val_acc: 0.9380\n",
            "Epoch 121 train_loss: 0.5748 train_acc: 1.0000  val_loss: 0.6467 val_acc: 0.9400\n",
            "Epoch 122 train_loss: 0.5798 train_acc: 1.0000  val_loss: 0.6492 val_acc: 0.9360\n",
            "Epoch 123 train_loss: 0.5704 train_acc: 1.0000  val_loss: 0.6505 val_acc: 0.9400\n",
            "Epoch 124 train_loss: 0.5741 train_acc: 1.0000  val_loss: 0.6475 val_acc: 0.9360\n",
            "Epoch 125 train_loss: 0.5797 train_acc: 1.0000  val_loss: 0.6474 val_acc: 0.9340\n",
            "Epoch 126 train_loss: 0.5763 train_acc: 1.0000  val_loss: 0.6534 val_acc: 0.9380\n",
            "Epoch 127 train_loss: 0.5698 train_acc: 1.0000  val_loss: 0.6484 val_acc: 0.9360\n",
            "Epoch 128 train_loss: 0.5759 train_acc: 1.0000  val_loss: 0.6475 val_acc: 0.9360\n",
            "Epoch 129 train_loss: 0.5791 train_acc: 1.0000  val_loss: 0.6470 val_acc: 0.9480\n",
            "Epoch 130 train_loss: 0.5727 train_acc: 1.0000  val_loss: 0.6451 val_acc: 0.9440\n",
            "Epoch 131 train_loss: 0.5760 train_acc: 1.0000  val_loss: 0.6496 val_acc: 0.9380\n",
            "Epoch 132 train_loss: 0.5750 train_acc: 1.0000  val_loss: 0.6441 val_acc: 0.9420\n",
            "Epoch 133 train_loss: 0.5658 train_acc: 1.0000  val_loss: 0.6474 val_acc: 0.9420\n",
            "Epoch 134 train_loss: 0.5735 train_acc: 1.0000  val_loss: 0.6493 val_acc: 0.9320\n",
            "Epoch 135 train_loss: 0.5635 train_acc: 1.0000  val_loss: 0.6477 val_acc: 0.9440\n",
            "Epoch 136 train_loss: 0.5715 train_acc: 1.0000  val_loss: 0.6415 val_acc: 0.9440\n",
            "Epoch 137 train_loss: 0.5743 train_acc: 1.0000  val_loss: 0.6458 val_acc: 0.9380\n",
            "Epoch 138 train_loss: 0.5778 train_acc: 1.0000  val_loss: 0.6441 val_acc: 0.9480\n",
            "Epoch 139 train_loss: 0.5720 train_acc: 1.0000  val_loss: 0.6425 val_acc: 0.9420\n",
            "Epoch 140 train_loss: 0.5741 train_acc: 1.0000  val_loss: 0.6459 val_acc: 0.9360\n",
            "Epoch 141 train_loss: 0.5780 train_acc: 0.9833  val_loss: 0.6462 val_acc: 0.9400\n",
            "Epoch 142 train_loss: 0.5735 train_acc: 1.0000  val_loss: 0.6386 val_acc: 0.9500\n",
            "Epoch 143 train_loss: 0.5790 train_acc: 1.0000  val_loss: 0.6404 val_acc: 0.9520\n",
            "Epoch 144 train_loss: 0.5760 train_acc: 1.0000  val_loss: 0.6427 val_acc: 0.9440\n",
            "Epoch 145 train_loss: 0.5853 train_acc: 1.0000  val_loss: 0.6423 val_acc: 0.9460\n",
            "Epoch 146 train_loss: 0.5850 train_acc: 1.0000  val_loss: 0.6387 val_acc: 0.9480\n",
            "Epoch 147 train_loss: 0.5710 train_acc: 1.0000  val_loss: 0.6457 val_acc: 0.9340\n",
            "Epoch 148 train_loss: 0.5745 train_acc: 1.0000  val_loss: 0.6416 val_acc: 0.9360\n",
            "Epoch 149 train_loss: 0.5756 train_acc: 1.0000  val_loss: 0.6360 val_acc: 0.9480\n",
            "Epoch 150 train_loss: 0.5677 train_acc: 1.0000  val_loss: 0.6417 val_acc: 0.9420\n",
            "Epoch 151 train_loss: 0.5756 train_acc: 1.0000  val_loss: 0.6357 val_acc: 0.9480\n",
            "Epoch 152 train_loss: 0.5755 train_acc: 1.0000  val_loss: 0.6383 val_acc: 0.9440\n",
            "Epoch 153 train_loss: 0.5750 train_acc: 1.0000  val_loss: 0.6423 val_acc: 0.9340\n",
            "Epoch 154 train_loss: 0.5691 train_acc: 1.0000  val_loss: 0.6467 val_acc: 0.9440\n",
            "Epoch 155 train_loss: 0.5764 train_acc: 1.0000  val_loss: 0.6385 val_acc: 0.9580\n",
            "Epoch 156 train_loss: 0.5710 train_acc: 1.0000  val_loss: 0.6318 val_acc: 0.9540\n",
            "Epoch 157 train_loss: 0.5686 train_acc: 1.0000  val_loss: 0.6380 val_acc: 0.9500\n",
            "Epoch 158 train_loss: 0.5702 train_acc: 1.0000  val_loss: 0.6373 val_acc: 0.9460\n",
            "Epoch 159 train_loss: 0.5833 train_acc: 0.9833  val_loss: 0.6454 val_acc: 0.9440\n",
            "Epoch 160 train_loss: 0.5806 train_acc: 0.9833  val_loss: 0.6340 val_acc: 0.9520\n",
            "Epoch 161 train_loss: 0.5690 train_acc: 1.0000  val_loss: 0.6403 val_acc: 0.9320\n",
            "Epoch 162 train_loss: 0.5899 train_acc: 0.9833  val_loss: 0.6386 val_acc: 0.9540\n",
            "Epoch 163 train_loss: 0.5834 train_acc: 0.9833  val_loss: 0.6392 val_acc: 0.9520\n",
            "Epoch 164 train_loss: 0.5843 train_acc: 1.0000  val_loss: 0.6406 val_acc: 0.9440\n",
            "Epoch 165 train_loss: 0.5756 train_acc: 1.0000  val_loss: 0.6368 val_acc: 0.9420\n",
            "Epoch 166 train_loss: 0.5729 train_acc: 1.0000  val_loss: 0.6317 val_acc: 0.9520\n",
            "Epoch 167 train_loss: 0.5766 train_acc: 1.0000  val_loss: 0.6369 val_acc: 0.9460\n",
            "Epoch 168 train_loss: 0.5700 train_acc: 1.0000  val_loss: 0.6416 val_acc: 0.9480\n",
            "Epoch 169 train_loss: 0.5803 train_acc: 1.0000  val_loss: 0.6338 val_acc: 0.9540\n",
            "Epoch 170 train_loss: 0.5690 train_acc: 1.0000  val_loss: 0.6392 val_acc: 0.9520\n",
            "Epoch 171 train_loss: 0.5723 train_acc: 1.0000  val_loss: 0.6373 val_acc: 0.9460\n",
            "Epoch 172 train_loss: 0.5810 train_acc: 1.0000  val_loss: 0.6344 val_acc: 0.9460\n",
            "Epoch 173 train_loss: 0.5724 train_acc: 1.0000  val_loss: 0.6329 val_acc: 0.9540\n",
            "Epoch 174 train_loss: 0.5686 train_acc: 1.0000  val_loss: 0.6321 val_acc: 0.9460\n",
            "Epoch 175 train_loss: 0.5795 train_acc: 0.9833  val_loss: 0.6299 val_acc: 0.9620\n",
            "Epoch 176 train_loss: 0.5688 train_acc: 1.0000  val_loss: 0.6340 val_acc: 0.9580\n",
            "Epoch 177 train_loss: 0.5722 train_acc: 1.0000  val_loss: 0.6327 val_acc: 0.9580\n",
            "Epoch 178 train_loss: 0.5718 train_acc: 1.0000  val_loss: 0.6370 val_acc: 0.9580\n",
            "Epoch 179 train_loss: 0.5816 train_acc: 1.0000  val_loss: 0.6358 val_acc: 0.9540\n",
            "Epoch 180 train_loss: 0.5657 train_acc: 1.0000  val_loss: 0.6333 val_acc: 0.9540\n",
            "Epoch 181 train_loss: 0.5701 train_acc: 1.0000  val_loss: 0.6298 val_acc: 0.9560\n",
            "Epoch 182 train_loss: 0.5672 train_acc: 1.0000  val_loss: 0.6315 val_acc: 0.9480\n",
            "Epoch 183 train_loss: 0.5639 train_acc: 1.0000  val_loss: 0.6313 val_acc: 0.9520\n",
            "Epoch 184 train_loss: 0.5728 train_acc: 1.0000  val_loss: 0.6321 val_acc: 0.9520\n",
            "Epoch 185 train_loss: 0.5750 train_acc: 1.0000  val_loss: 0.6311 val_acc: 0.9460\n",
            "Epoch 186 train_loss: 0.5737 train_acc: 1.0000  val_loss: 0.6342 val_acc: 0.9500\n",
            "Epoch 187 train_loss: 0.5661 train_acc: 1.0000  val_loss: 0.6286 val_acc: 0.9540\n",
            "Epoch 188 train_loss: 0.5722 train_acc: 1.0000  val_loss: 0.6291 val_acc: 0.9440\n",
            "Epoch 189 train_loss: 0.5676 train_acc: 1.0000  val_loss: 0.6304 val_acc: 0.9540\n",
            "Epoch 190 train_loss: 0.5756 train_acc: 1.0000  val_loss: 0.6321 val_acc: 0.9540\n",
            "Epoch 191 train_loss: 0.5646 train_acc: 1.0000  val_loss: 0.6290 val_acc: 0.9500\n",
            "Epoch 192 train_loss: 0.5731 train_acc: 0.9833  val_loss: 0.6341 val_acc: 0.9580\n",
            "Epoch 193 train_loss: 0.5679 train_acc: 1.0000  val_loss: 0.6324 val_acc: 0.9460\n",
            "Epoch 194 train_loss: 0.5742 train_acc: 1.0000  val_loss: 0.6346 val_acc: 0.9520\n",
            "Epoch 195 train_loss: 0.5874 train_acc: 0.9833  val_loss: 0.6337 val_acc: 0.9540\n",
            "Epoch 196 train_loss: 0.5775 train_acc: 0.9833  val_loss: 0.6291 val_acc: 0.9540\n",
            "Epoch 197 train_loss: 0.5842 train_acc: 1.0000  val_loss: 0.6257 val_acc: 0.9600\n",
            "Epoch 198 train_loss: 0.5785 train_acc: 1.0000  val_loss: 0.6251 val_acc: 0.9580\n",
            "Epoch 199 train_loss: 0.5787 train_acc: 0.9833  val_loss: 0.6277 val_acc: 0.9540\n",
            "Epoch 200 train_loss: 0.5716 train_acc: 1.0000  val_loss: 0.6398 val_acc: 0.9420\n",
            "Epoch 201 train_loss: 0.5752 train_acc: 1.0000  val_loss: 0.6319 val_acc: 0.9520\n",
            "Epoch 202 train_loss: 0.5725 train_acc: 1.0000  val_loss: 0.6305 val_acc: 0.9500\n",
            "Epoch 203 train_loss: 0.5821 train_acc: 1.0000  val_loss: 0.6326 val_acc: 0.9600\n",
            "Epoch 204 train_loss: 0.5745 train_acc: 1.0000  val_loss: 0.6258 val_acc: 0.9660\n",
            "Epoch 205 train_loss: 0.5718 train_acc: 1.0000  val_loss: 0.6256 val_acc: 0.9640\n",
            "Epoch 206 train_loss: 0.5740 train_acc: 1.0000  val_loss: 0.6340 val_acc: 0.9460\n",
            "Epoch 207 train_loss: 0.5746 train_acc: 1.0000  val_loss: 0.6297 val_acc: 0.9460\n",
            "Epoch 208 train_loss: 0.5763 train_acc: 1.0000  val_loss: 0.6246 val_acc: 0.9600\n",
            "Epoch 209 train_loss: 0.5663 train_acc: 1.0000  val_loss: 0.6360 val_acc: 0.9500\n",
            "Epoch 210 train_loss: 0.5659 train_acc: 1.0000  val_loss: 0.6302 val_acc: 0.9540\n",
            "Epoch 211 train_loss: 0.5762 train_acc: 1.0000  val_loss: 0.6275 val_acc: 0.9580\n",
            "Epoch 212 train_loss: 0.5647 train_acc: 1.0000  val_loss: 0.6301 val_acc: 0.9520\n",
            "Epoch 213 train_loss: 0.5687 train_acc: 1.0000  val_loss: 0.6228 val_acc: 0.9580\n",
            "Epoch 214 train_loss: 0.5739 train_acc: 1.0000  val_loss: 0.6299 val_acc: 0.9500\n",
            "Epoch 215 train_loss: 0.5630 train_acc: 1.0000  val_loss: 0.6297 val_acc: 0.9580\n",
            "Epoch 216 train_loss: 0.5651 train_acc: 1.0000  val_loss: 0.6283 val_acc: 0.9540\n",
            "Epoch 217 train_loss: 0.5659 train_acc: 1.0000  val_loss: 0.6266 val_acc: 0.9640\n",
            "Epoch 218 train_loss: 0.5683 train_acc: 1.0000  val_loss: 0.6197 val_acc: 0.9680\n",
            "Epoch 219 train_loss: 0.5750 train_acc: 1.0000  val_loss: 0.6282 val_acc: 0.9560\n",
            "Epoch 220 train_loss: 0.5769 train_acc: 1.0000  val_loss: 0.6278 val_acc: 0.9600\n",
            "Epoch 221 train_loss: 0.5700 train_acc: 1.0000  val_loss: 0.6257 val_acc: 0.9580\n",
            "Epoch 222 train_loss: 0.5739 train_acc: 1.0000  val_loss: 0.6239 val_acc: 0.9600\n",
            "Epoch 223 train_loss: 0.5725 train_acc: 1.0000  val_loss: 0.6210 val_acc: 0.9560\n",
            "Epoch 224 train_loss: 0.5692 train_acc: 1.0000  val_loss: 0.6292 val_acc: 0.9560\n",
            "Epoch 225 train_loss: 0.5648 train_acc: 1.0000  val_loss: 0.6249 val_acc: 0.9640\n",
            "Epoch 226 train_loss: 0.5670 train_acc: 1.0000  val_loss: 0.6244 val_acc: 0.9560\n",
            "Epoch 227 train_loss: 0.5814 train_acc: 0.9833  val_loss: 0.6224 val_acc: 0.9560\n",
            "Epoch 228 train_loss: 0.5663 train_acc: 1.0000  val_loss: 0.6225 val_acc: 0.9600\n",
            "Epoch 229 train_loss: 0.5689 train_acc: 1.0000  val_loss: 0.6160 val_acc: 0.9640\n",
            "Epoch 230 train_loss: 0.5692 train_acc: 1.0000  val_loss: 0.6276 val_acc: 0.9580\n",
            "Epoch 231 train_loss: 0.5694 train_acc: 1.0000  val_loss: 0.6266 val_acc: 0.9560\n",
            "Epoch 232 train_loss: 0.5695 train_acc: 1.0000  val_loss: 0.6255 val_acc: 0.9520\n",
            "Epoch 233 train_loss: 0.5662 train_acc: 1.0000  val_loss: 0.6248 val_acc: 0.9600\n",
            "Epoch 234 train_loss: 0.5765 train_acc: 0.9833  val_loss: 0.6201 val_acc: 0.9660\n",
            "Epoch 235 train_loss: 0.5690 train_acc: 1.0000  val_loss: 0.6176 val_acc: 0.9680\n",
            "Epoch 236 train_loss: 0.5820 train_acc: 0.9833  val_loss: 0.6294 val_acc: 0.9580\n",
            "Epoch 237 train_loss: 0.5764 train_acc: 0.9833  val_loss: 0.6172 val_acc: 0.9660\n",
            "Epoch 238 train_loss: 0.5716 train_acc: 1.0000  val_loss: 0.6146 val_acc: 0.9700\n",
            "Epoch 239 train_loss: 0.5673 train_acc: 1.0000  val_loss: 0.6234 val_acc: 0.9600\n",
            "Epoch 240 train_loss: 0.5706 train_acc: 1.0000  val_loss: 0.6275 val_acc: 0.9500\n",
            "Epoch 241 train_loss: 0.5716 train_acc: 1.0000  val_loss: 0.6244 val_acc: 0.9580\n",
            "Epoch 242 train_loss: 0.5692 train_acc: 1.0000  val_loss: 0.6244 val_acc: 0.9640\n",
            "Epoch 243 train_loss: 0.5749 train_acc: 1.0000  val_loss: 0.6194 val_acc: 0.9680\n",
            "Epoch 244 train_loss: 0.5628 train_acc: 1.0000  val_loss: 0.6235 val_acc: 0.9540\n",
            "Epoch 245 train_loss: 0.5791 train_acc: 1.0000  val_loss: 0.6237 val_acc: 0.9660\n",
            "Epoch 246 train_loss: 0.5684 train_acc: 1.0000  val_loss: 0.6233 val_acc: 0.9600\n",
            "Epoch 247 train_loss: 0.5712 train_acc: 1.0000  val_loss: 0.6249 val_acc: 0.9620\n",
            "Epoch 248 train_loss: 0.5695 train_acc: 1.0000  val_loss: 0.6232 val_acc: 0.9640\n",
            "Epoch 249 train_loss: 0.5641 train_acc: 1.0000  val_loss: 0.6278 val_acc: 0.9540\n",
            "Epoch 250 train_loss: 0.5781 train_acc: 0.9833  val_loss: 0.6274 val_acc: 0.9580\n",
            "Epoch 251 train_loss: 0.5661 train_acc: 1.0000  val_loss: 0.6195 val_acc: 0.9640\n",
            "Epoch 252 train_loss: 0.5637 train_acc: 1.0000  val_loss: 0.6203 val_acc: 0.9600\n",
            "Epoch 253 train_loss: 0.5683 train_acc: 1.0000  val_loss: 0.6173 val_acc: 0.9680\n",
            "Epoch 254 train_loss: 0.5717 train_acc: 1.0000  val_loss: 0.6184 val_acc: 0.9720\n",
            "Epoch 255 train_loss: 0.5950 train_acc: 0.9833  val_loss: 0.6249 val_acc: 0.9580\n",
            "Epoch 256 train_loss: 0.5661 train_acc: 1.0000  val_loss: 0.6196 val_acc: 0.9620\n",
            "Epoch 257 train_loss: 0.5649 train_acc: 1.0000  val_loss: 0.6207 val_acc: 0.9560\n",
            "Epoch 258 train_loss: 0.5690 train_acc: 1.0000  val_loss: 0.6237 val_acc: 0.9640\n",
            "Epoch 259 train_loss: 0.5630 train_acc: 1.0000  val_loss: 0.6250 val_acc: 0.9560\n",
            "Epoch 260 train_loss: 0.5688 train_acc: 1.0000  val_loss: 0.6197 val_acc: 0.9600\n",
            "Epoch 261 train_loss: 0.5680 train_acc: 1.0000  val_loss: 0.6169 val_acc: 0.9660\n",
            "Epoch 262 train_loss: 0.5624 train_acc: 1.0000  val_loss: 0.6148 val_acc: 0.9660\n",
            "Epoch 263 train_loss: 0.5656 train_acc: 1.0000  val_loss: 0.6227 val_acc: 0.9640\n",
            "Epoch 264 train_loss: 0.5892 train_acc: 0.9833  val_loss: 0.6163 val_acc: 0.9600\n",
            "Epoch 265 train_loss: 0.5701 train_acc: 1.0000  val_loss: 0.6168 val_acc: 0.9660\n",
            "Epoch 266 train_loss: 0.5664 train_acc: 1.0000  val_loss: 0.6234 val_acc: 0.9620\n",
            "Epoch 267 train_loss: 0.5623 train_acc: 1.0000  val_loss: 0.6168 val_acc: 0.9680\n",
            "Epoch 268 train_loss: 0.5646 train_acc: 1.0000  val_loss: 0.6157 val_acc: 0.9640\n",
            "Epoch 269 train_loss: 0.5644 train_acc: 1.0000  val_loss: 0.6209 val_acc: 0.9580\n",
            "Epoch 270 train_loss: 0.5667 train_acc: 1.0000  val_loss: 0.6195 val_acc: 0.9680\n",
            "Epoch 271 train_loss: 0.5663 train_acc: 1.0000  val_loss: 0.6227 val_acc: 0.9560\n",
            "Epoch 272 train_loss: 0.5717 train_acc: 1.0000  val_loss: 0.6182 val_acc: 0.9660\n",
            "Epoch 273 train_loss: 0.5676 train_acc: 1.0000  val_loss: 0.6205 val_acc: 0.9640\n",
            "Epoch 274 train_loss: 0.5603 train_acc: 1.0000  val_loss: 0.6167 val_acc: 0.9660\n",
            "Epoch 275 train_loss: 0.5669 train_acc: 1.0000  val_loss: 0.6173 val_acc: 0.9660\n",
            "Epoch 276 train_loss: 0.5749 train_acc: 1.0000  val_loss: 0.6114 val_acc: 0.9680\n",
            "Epoch 277 train_loss: 0.5634 train_acc: 1.0000  val_loss: 0.6146 val_acc: 0.9660\n",
            "Epoch 278 train_loss: 0.5636 train_acc: 1.0000  val_loss: 0.6233 val_acc: 0.9560\n",
            "Epoch 279 train_loss: 0.5719 train_acc: 1.0000  val_loss: 0.6228 val_acc: 0.9580\n",
            "Epoch 280 train_loss: 0.5658 train_acc: 1.0000  val_loss: 0.6165 val_acc: 0.9620\n",
            "Epoch 281 train_loss: 0.5759 train_acc: 0.9833  val_loss: 0.6162 val_acc: 0.9680\n",
            "Epoch 282 train_loss: 0.5628 train_acc: 1.0000  val_loss: 0.6199 val_acc: 0.9600\n",
            "Epoch 283 train_loss: 0.5632 train_acc: 1.0000  val_loss: 0.6170 val_acc: 0.9640\n",
            "Epoch 284 train_loss: 0.5691 train_acc: 1.0000  val_loss: 0.6225 val_acc: 0.9660\n",
            "Epoch 285 train_loss: 0.5700 train_acc: 1.0000  val_loss: 0.6197 val_acc: 0.9680\n",
            "Epoch 286 train_loss: 0.5679 train_acc: 1.0000  val_loss: 0.6174 val_acc: 0.9680\n",
            "Epoch 287 train_loss: 0.5670 train_acc: 1.0000  val_loss: 0.6186 val_acc: 0.9660\n",
            "Epoch 288 train_loss: 0.5674 train_acc: 1.0000  val_loss: 0.6185 val_acc: 0.9680\n",
            "Epoch 289 train_loss: 0.5678 train_acc: 1.0000  val_loss: 0.6194 val_acc: 0.9600\n",
            "Epoch 290 train_loss: 0.5724 train_acc: 1.0000  val_loss: 0.6133 val_acc: 0.9620\n",
            "Epoch 291 train_loss: 0.5726 train_acc: 1.0000  val_loss: 0.6185 val_acc: 0.9680\n",
            "Epoch 292 train_loss: 0.5729 train_acc: 0.9833  val_loss: 0.6189 val_acc: 0.9700\n",
            "Epoch 293 train_loss: 0.5683 train_acc: 1.0000  val_loss: 0.6128 val_acc: 0.9700\n",
            "Epoch 294 train_loss: 0.5744 train_acc: 1.0000  val_loss: 0.6155 val_acc: 0.9760\n",
            "Epoch 295 train_loss: 0.5666 train_acc: 1.0000  val_loss: 0.6193 val_acc: 0.9660\n",
            "Epoch 296 train_loss: 0.5750 train_acc: 1.0000  val_loss: 0.6193 val_acc: 0.9680\n",
            "Epoch 297 train_loss: 0.5708 train_acc: 1.0000  val_loss: 0.6124 val_acc: 0.9720\n",
            "Epoch 298 train_loss: 0.5712 train_acc: 1.0000  val_loss: 0.6178 val_acc: 0.9620\n",
            "Epoch 299 train_loss: 0.5642 train_acc: 1.0000  val_loss: 0.6134 val_acc: 0.9700\n",
            "Epoch 300 train_loss: 0.5743 train_acc: 1.0000  val_loss: 0.6133 val_acc: 0.9640\n",
            "Epoch 301 train_loss: 0.5749 train_acc: 1.0000  val_loss: 0.6198 val_acc: 0.9600\n",
            "Epoch 302 train_loss: 0.5688 train_acc: 1.0000  val_loss: 0.6162 val_acc: 0.9680\n",
            "Epoch 303 train_loss: 0.5666 train_acc: 1.0000  val_loss: 0.6171 val_acc: 0.9560\n",
            "Epoch 304 train_loss: 0.5717 train_acc: 1.0000  val_loss: 0.6164 val_acc: 0.9680\n",
            "Epoch 305 train_loss: 0.5714 train_acc: 1.0000  val_loss: 0.6151 val_acc: 0.9640\n",
            "Epoch 306 train_loss: 0.5646 train_acc: 1.0000  val_loss: 0.6106 val_acc: 0.9700\n",
            "Epoch 307 train_loss: 0.5674 train_acc: 1.0000  val_loss: 0.6123 val_acc: 0.9720\n",
            "Epoch 308 train_loss: 0.5751 train_acc: 1.0000  val_loss: 0.6160 val_acc: 0.9620\n",
            "Epoch 309 train_loss: 0.5698 train_acc: 1.0000  val_loss: 0.6193 val_acc: 0.9600\n",
            "Epoch 310 train_loss: 0.5697 train_acc: 1.0000  val_loss: 0.6193 val_acc: 0.9620\n",
            "Epoch 311 train_loss: 0.5625 train_acc: 1.0000  val_loss: 0.6164 val_acc: 0.9600\n",
            "Epoch 312 train_loss: 0.5665 train_acc: 1.0000  val_loss: 0.6180 val_acc: 0.9660\n",
            "Epoch 313 train_loss: 0.5690 train_acc: 0.9833  val_loss: 0.6151 val_acc: 0.9640\n",
            "Epoch 314 train_loss: 0.5679 train_acc: 1.0000  val_loss: 0.6166 val_acc: 0.9620\n",
            "Epoch 315 train_loss: 0.5707 train_acc: 1.0000  val_loss: 0.6135 val_acc: 0.9680\n",
            "Epoch 316 train_loss: 0.5659 train_acc: 1.0000  val_loss: 0.6213 val_acc: 0.9560\n",
            "Epoch 317 train_loss: 0.5660 train_acc: 1.0000  val_loss: 0.6118 val_acc: 0.9660\n",
            "Epoch 318 train_loss: 0.5701 train_acc: 1.0000  val_loss: 0.6114 val_acc: 0.9680\n",
            "Epoch 319 train_loss: 0.5629 train_acc: 1.0000  val_loss: 0.6199 val_acc: 0.9640\n",
            "Epoch 320 train_loss: 0.5648 train_acc: 1.0000  val_loss: 0.6202 val_acc: 0.9580\n",
            "Epoch 321 train_loss: 0.5610 train_acc: 1.0000  val_loss: 0.6160 val_acc: 0.9620\n",
            "Epoch 322 train_loss: 0.5673 train_acc: 1.0000  val_loss: 0.6127 val_acc: 0.9780\n",
            "Epoch 323 train_loss: 0.5702 train_acc: 1.0000  val_loss: 0.6191 val_acc: 0.9580\n",
            "Epoch 324 train_loss: 0.5621 train_acc: 1.0000  val_loss: 0.6134 val_acc: 0.9740\n",
            "Epoch 325 train_loss: 0.5719 train_acc: 1.0000  val_loss: 0.6140 val_acc: 0.9720\n",
            "Epoch 326 train_loss: 0.5650 train_acc: 1.0000  val_loss: 0.6123 val_acc: 0.9680\n",
            "Epoch 327 train_loss: 0.5656 train_acc: 1.0000  val_loss: 0.6129 val_acc: 0.9680\n",
            "Epoch 328 train_loss: 0.5796 train_acc: 0.9833  val_loss: 0.6210 val_acc: 0.9620\n",
            "Epoch 329 train_loss: 0.5707 train_acc: 1.0000  val_loss: 0.6083 val_acc: 0.9720\n",
            "Epoch 330 train_loss: 0.5614 train_acc: 1.0000  val_loss: 0.6154 val_acc: 0.9720\n",
            "Epoch 331 train_loss: 0.5713 train_acc: 1.0000  val_loss: 0.6134 val_acc: 0.9660\n",
            "Epoch 332 train_loss: 0.5626 train_acc: 1.0000  val_loss: 0.6147 val_acc: 0.9720\n",
            "Epoch 333 train_loss: 0.5623 train_acc: 1.0000  val_loss: 0.6164 val_acc: 0.9620\n",
            "Epoch 334 train_loss: 0.5632 train_acc: 1.0000  val_loss: 0.6207 val_acc: 0.9600\n",
            "Epoch 335 train_loss: 0.5709 train_acc: 1.0000  val_loss: 0.6156 val_acc: 0.9660\n",
            "Epoch 336 train_loss: 0.5644 train_acc: 1.0000  val_loss: 0.6083 val_acc: 0.9700\n",
            "Epoch 337 train_loss: 0.5681 train_acc: 1.0000  val_loss: 0.6118 val_acc: 0.9720\n",
            "Epoch 338 train_loss: 0.5647 train_acc: 1.0000  val_loss: 0.6134 val_acc: 0.9700\n",
            "Epoch 339 train_loss: 0.5634 train_acc: 1.0000  val_loss: 0.6121 val_acc: 0.9720\n",
            "Epoch 340 train_loss: 0.5650 train_acc: 1.0000  val_loss: 0.6115 val_acc: 0.9680\n",
            "Epoch 341 train_loss: 0.5648 train_acc: 1.0000  val_loss: 0.6173 val_acc: 0.9640\n",
            "Epoch 342 train_loss: 0.5706 train_acc: 1.0000  val_loss: 0.6179 val_acc: 0.9600\n",
            "Epoch 343 train_loss: 0.5649 train_acc: 1.0000  val_loss: 0.6146 val_acc: 0.9720\n",
            "Epoch 344 train_loss: 0.5754 train_acc: 1.0000  val_loss: 0.6150 val_acc: 0.9600\n",
            "Epoch 345 train_loss: 0.5648 train_acc: 1.0000  val_loss: 0.6147 val_acc: 0.9620\n",
            "Epoch 346 train_loss: 0.5586 train_acc: 1.0000  val_loss: 0.6176 val_acc: 0.9660\n",
            "Epoch 347 train_loss: 0.5711 train_acc: 1.0000  val_loss: 0.6082 val_acc: 0.9680\n",
            "Epoch 348 train_loss: 0.5721 train_acc: 1.0000  val_loss: 0.6161 val_acc: 0.9720\n",
            "Epoch 349 train_loss: 0.5705 train_acc: 1.0000  val_loss: 0.6125 val_acc: 0.9720\n",
            "Epoch 350 train_loss: 0.5655 train_acc: 1.0000  val_loss: 0.6158 val_acc: 0.9680\n",
            "Epoch 351 train_loss: 0.5673 train_acc: 1.0000  val_loss: 0.6149 val_acc: 0.9660\n",
            "Epoch 352 train_loss: 0.5616 train_acc: 1.0000  val_loss: 0.6150 val_acc: 0.9660\n",
            "Epoch 353 train_loss: 0.5845 train_acc: 1.0000  val_loss: 0.6184 val_acc: 0.9600\n",
            "Epoch 354 train_loss: 0.5724 train_acc: 1.0000  val_loss: 0.6101 val_acc: 0.9720\n",
            "Epoch 355 train_loss: 0.5635 train_acc: 1.0000  val_loss: 0.6144 val_acc: 0.9660\n",
            "Epoch 356 train_loss: 0.5731 train_acc: 1.0000  val_loss: 0.6143 val_acc: 0.9600\n",
            "Epoch 357 train_loss: 0.5679 train_acc: 1.0000  val_loss: 0.6116 val_acc: 0.9720\n",
            "Epoch 358 train_loss: 0.5663 train_acc: 1.0000  val_loss: 0.6163 val_acc: 0.9640\n",
            "Epoch 359 train_loss: 0.5728 train_acc: 1.0000  val_loss: 0.6087 val_acc: 0.9720\n",
            "Epoch 360 train_loss: 0.5667 train_acc: 1.0000  val_loss: 0.6126 val_acc: 0.9600\n",
            "Epoch 361 train_loss: 0.5658 train_acc: 1.0000  val_loss: 0.6063 val_acc: 0.9700\n",
            "Epoch 362 train_loss: 0.5704 train_acc: 1.0000  val_loss: 0.6200 val_acc: 0.9560\n",
            "Epoch 363 train_loss: 0.5660 train_acc: 1.0000  val_loss: 0.6149 val_acc: 0.9680\n",
            "Epoch 364 train_loss: 0.5737 train_acc: 1.0000  val_loss: 0.6156 val_acc: 0.9640\n",
            "Epoch 365 train_loss: 0.5606 train_acc: 1.0000  val_loss: 0.6147 val_acc: 0.9720\n",
            "Epoch 366 train_loss: 0.5732 train_acc: 0.9833  val_loss: 0.6143 val_acc: 0.9680\n",
            "Epoch 367 train_loss: 0.5691 train_acc: 1.0000  val_loss: 0.6157 val_acc: 0.9660\n",
            "Epoch 368 train_loss: 0.5661 train_acc: 1.0000  val_loss: 0.6123 val_acc: 0.9660\n",
            "Epoch 369 train_loss: 0.5714 train_acc: 1.0000  val_loss: 0.6072 val_acc: 0.9720\n",
            "Epoch 370 train_loss: 0.5648 train_acc: 1.0000  val_loss: 0.6120 val_acc: 0.9700\n",
            "Epoch 371 train_loss: 0.5674 train_acc: 1.0000  val_loss: 0.6095 val_acc: 0.9640\n",
            "Epoch 372 train_loss: 0.5665 train_acc: 1.0000  val_loss: 0.6129 val_acc: 0.9660\n",
            "Epoch 373 train_loss: 0.5601 train_acc: 1.0000  val_loss: 0.6087 val_acc: 0.9680\n",
            "Epoch 374 train_loss: 0.5670 train_acc: 1.0000  val_loss: 0.6109 val_acc: 0.9740\n",
            "Epoch 375 train_loss: 0.5674 train_acc: 0.9833  val_loss: 0.6158 val_acc: 0.9680\n",
            "Epoch 376 train_loss: 0.5720 train_acc: 1.0000  val_loss: 0.6120 val_acc: 0.9660\n",
            "Epoch 377 train_loss: 0.5707 train_acc: 1.0000  val_loss: 0.6155 val_acc: 0.9640\n",
            "Epoch 378 train_loss: 0.5677 train_acc: 1.0000  val_loss: 0.6145 val_acc: 0.9680\n",
            "Epoch 379 train_loss: 0.5628 train_acc: 1.0000  val_loss: 0.6142 val_acc: 0.9620\n"
          ],
          "name": "stdout"
        }
      ]
    },
    {
      "cell_type": "markdown",
      "metadata": {
        "id": "XPrl4izp03i9"
      },
      "source": [
        "**Dataset 4**"
      ]
    },
    {
      "cell_type": "code",
      "metadata": {
        "colab": {
          "base_uri": "https://localhost:8080/"
        },
        "id": "NUOC6q54NKn5",
        "outputId": "c4e78a66-a2d2-4d91-80c8-c1924e2bba02"
      },
      "source": [
        "model.eval()\n",
        "out = model(data)\n",
        "loss = criterion(out[data.test_mask], data.y[data.test_mask])\n",
        "_, pred = torch.max(out[data.test_mask], dim=1)\n",
        "correct = (pred == data.y[data.test_mask]).sum().item()\n",
        "acc = correct/data.test_mask.sum().item()\n",
        "print(\"test_loss: {:.5f} test_acc: {:.5f}\".format(loss.item(), acc))"
      ],
      "execution_count": null,
      "outputs": [
        {
          "output_type": "stream",
          "text": [
            "test_loss: 1.32394 test_acc: 0.84600\n"
          ],
          "name": "stdout"
        }
      ]
    },
    {
      "cell_type": "code",
      "metadata": {
        "colab": {
          "base_uri": "https://localhost:8080/",
          "height": 281
        },
        "id": "euf7pVRsio-J",
        "outputId": "98d02dd6-2127-4b8a-861b-17a5967a4e1d"
      },
      "source": [
        "from matplotlib import pyplot as plt\n",
        "\n",
        "plt.plot(Epoch, train_acc, Epoch, val_acc)\n",
        "plt.title('GraphSage Accuracy')\n",
        "plt.legend(['Train','Validation '])\n",
        "plt.show()"
      ],
      "execution_count": null,
      "outputs": [
        {
          "output_type": "display_data",
          "data": {
            "image/png": "[encoded data removed]",
            "text/plain": [
              "<Figure size 432x288 with 1 Axes>"
            ]
          },
          "metadata": {
            "needs_background": "light"
          }
        }
      ]
    },
    {
      "cell_type": "code",
      "metadata": {
        "colab": {
          "base_uri": "https://localhost:8080/",
          "height": 281
        },
        "id": "Pu8Yz40siqhP",
        "outputId": "99d96b87-ef2a-485d-c660-a18556214922"
      },
      "source": [
        "from matplotlib import pyplot as plt\n",
        "\n",
        "plt.plot(Epoch, train_loss, Epoch, val_loss)\n",
        "plt.title('GraphSage Loss')\n",
        "plt.legend(['Train','Validation '])\n",
        "plt.show()"
      ],
      "execution_count": null,
      "outputs": [
        {
          "output_type": "display_data",
          "data": {
            "image/png": "[encoded data removed]",
            "text/plain": [
              "<Figure size 432x288 with 1 Axes>"
            ]
          },
          "metadata": {
            "needs_background": "light"
          }
        }
      ]
    },
    {
      "cell_type": "markdown",
      "metadata": {
        "id": "Toxjfuql7sgG"
      },
      "source": [
        "Dataset 1"
      ]
    },
    {
      "cell_type": "code",
      "metadata": {
        "colab": {
          "base_uri": "https://localhost:8080/"
        },
        "id": "RTGMTy1ZsLx-",
        "outputId": "a0ceea81-24e2-40d2-93da-20edf3298f4d"
      },
      "source": [
        "model.eval()\n",
        "out = model(data)\n",
        "loss = criterion(out[data.test_mask], data.y[data.test_mask])\n",
        "_, pred = torch.max(out[data.test_mask], dim=1)\n",
        "correct = (pred == data.y[data.test_mask]).sum().item()\n",
        "acc = correct/data.test_mask.sum().item()\n",
        "print(\"test_loss: {:.4f} test_acc: {:.4f}\".format(loss.item(), acc))"
      ],
      "execution_count": null,
      "outputs": [
        {
          "output_type": "stream",
          "text": [
            "test_loss: 1.3141 test_acc: 0.7300\n"
          ],
          "name": "stdout"
        }
      ]
    },
    {
      "cell_type": "code",
      "metadata": {
        "colab": {
          "base_uri": "https://localhost:8080/",
          "height": 281
        },
        "id": "r3z3sQgzQO4B",
        "outputId": "73842481-828d-4b52-c2e7-125e7cf4856f"
      },
      "source": [
        "from matplotlib import pyplot as plt\n",
        "\n",
        "plt.plot(Epoch, train_acc, Epoch, val_acc)\n",
        "plt.title('GraphSage Accuracy')\n",
        "plt.legend(['Train','Validation '])\n",
        "plt.show()"
      ],
      "execution_count": null,
      "outputs": [
        {
          "output_type": "display_data",
          "data": {
            "image/png": "[encoded data removed]",
            "text/plain": [
              "<Figure size 432x288 with 1 Axes>"
            ]
          },
          "metadata": {
            "needs_background": "light"
          }
        }
      ]
    },
    {
      "cell_type": "code",
      "metadata": {
        "colab": {
          "base_uri": "https://localhost:8080/",
          "height": 281
        },
        "id": "wnW7e_mqQWRh",
        "outputId": "6b5e8b9d-4a72-4ce8-e0c9-6bb62bd49bb0"
      },
      "source": [
        "from matplotlib import pyplot as plt\n",
        "\n",
        "plt.plot(Epoch, train_loss, Epoch, val_loss)\n",
        "plt.title('GraphSage Loss')\n",
        "plt.legend(['Train','Validation '])\n",
        "plt.show()"
      ],
      "execution_count": null,
      "outputs": [
        {
          "output_type": "display_data",
          "data": {
            "image/png": "[encoded data removed]",
            "text/plain": [
              "<Figure size 432x288 with 1 Axes>"
            ]
          },
          "metadata": {
            "needs_background": "light"
          }
        }
      ]
    },
    {
      "cell_type": "code",
      "metadata": {
        "id": "jZMr7DPcsfiW"
      },
      "source": [
        "Dataset 3"
      ],
      "execution_count": null,
      "outputs": []
    },
    {
      "cell_type": "code",
      "metadata": {
        "colab": {
          "base_uri": "https://localhost:8080/"
        },
        "id": "vEei3LDSsjtu",
        "outputId": "7abf6ca2-bfe7-43e1-c616-b972bc544b25"
      },
      "source": [
        "model.eval()\n",
        "out = model(data)\n",
        "loss = criterion(out[data.test_mask], data.y[data.test_mask])\n",
        "_, pred = torch.max(out[data.test_mask], dim=1)\n",
        "correct = (pred == data.y[data.test_mask]).sum().item()\n",
        "acc = correct/data.test_mask.sum().item()\n",
        "print(\"test_loss: {:.4f} test_acc: {:.4f}\".format(loss.item(), acc))"
      ],
      "execution_count": null,
      "outputs": [
        {
          "output_type": "stream",
          "text": [
            "test_loss: 0.7328 test_acc: 0.8230\n"
          ],
          "name": "stdout"
        }
      ]
    },
    {
      "cell_type": "code",
      "metadata": {
        "colab": {
          "base_uri": "https://localhost:8080/",
          "height": 281
        },
        "id": "5PUUkFs_skel",
        "outputId": "25a298f9-0500-4447-b19c-09082b3d6b48"
      },
      "source": [
        "from matplotlib import pyplot as plt\n",
        "\n",
        "plt.plot(Epoch, train_acc, Epoch, val_acc)\n",
        "plt.title('GraphSage Accuracy')\n",
        "plt.legend(['Train','Validation '])\n",
        "plt.show()"
      ],
      "execution_count": null,
      "outputs": [
        {
          "output_type": "display_data",
          "data": {
            "image/png": "[encoded data removed]",
            "text/plain": [
              "<Figure size 432x288 with 1 Axes>"
            ]
          },
          "metadata": {
            "needs_background": "light"
          }
        }
      ]
    },
    {
      "cell_type": "code",
      "metadata": {
        "colab": {
          "base_uri": "https://localhost:8080/",
          "height": 281
        },
        "id": "uPoSQ2g2soOf",
        "outputId": "6b14774e-f084-4731-f32d-f6e9a7867e71"
      },
      "source": [
        "from matplotlib import pyplot as plt\n",
        "\n",
        "plt.plot(Epoch, train_loss, Epoch, val_loss)\n",
        "plt.title('GraphSage Loss')\n",
        "plt.legend(['Train','Validation '])\n",
        "plt.show()"
      ],
      "execution_count": null,
      "outputs": [
        {
          "output_type": "display_data",
          "data": {
            "image/png": "[encoded data removed]",
            "text/plain": [
              "<Figure size 432x288 with 1 Axes>"
            ]
          },
          "metadata": {
            "needs_background": "light"
          }
        }
      ]
    },
    {
      "cell_type": "markdown",
      "metadata": {
        "id": "WYhHcL-S-hpl"
      },
      "source": [
        "Dataset 2"
      ]
    },
    {
      "cell_type": "code",
      "metadata": {
        "id": "w1lfGFHK-jRT"
      },
      "source": [
        " train_acc4 = train_acc\n",
        " val_acc4 = val_acc"
      ],
      "execution_count": null,
      "outputs": []
    },
    {
      "cell_type": "code",
      "metadata": {
        "id": "B5l46v1JBghc"
      },
      "source": [
        "train_loss4 = train_loss\n",
        "val_loss4 = val_loss"
      ],
      "execution_count": null,
      "outputs": []
    },
    {
      "cell_type": "code",
      "metadata": {
        "id": "2FCbNFdCCT2D"
      },
      "source": [
        "import csv\n",
        "csvFile = open('datadraw.csv', 'w', encoding = \"utf-8\")\n",
        "row = ['Epoch', 'acc_train', 'acc_val','cost_train','cost_val']\n",
        "writer = csv.writer(csvFile)\n",
        "writer.writerow(row)\n",
        "for i in range(len(Epoch)):\n",
        "    row = [Epoch[i], train_acc4[i], val_acc4[i],train_loss4[i],val_loss4[i]]\n",
        "    writer.writerow(row)\n",
        "csvFile.close()"
      ],
      "execution_count": null,
      "outputs": []
    },
    {
      "cell_type": "code",
      "metadata": {
        "colab": {
          "base_uri": "https://localhost:8080/",
          "height": 281
        },
        "id": "lNm85OPHBv38",
        "outputId": "6e3b1aad-f53c-4ae9-cdca-2fecad885066"
      },
      "source": [
        "from matplotlib import pyplot as plt\n",
        "\n",
        "plt.plot(Epoch, train_acc4, Epoch, val_acc4)\n",
        "plt.title('GraphSage Accuracy')\n",
        "plt.legend(['Train','Validation '])\n",
        "plt.show()"
      ],
      "execution_count": null,
      "outputs": [
        {
          "output_type": "display_data",
          "data": {
            "image/png": "[encoded data removed]",
            "text/plain": [
              "<Figure size 432x288 with 1 Axes>"
            ]
          },
          "metadata": {
            "needs_background": "light"
          }
        }
      ]
    },
    {
      "cell_type": "code",
      "metadata": {
        "colab": {
          "base_uri": "https://localhost:8080/",
          "height": 281
        },
        "id": "EGRgDYauBz52",
        "outputId": "bcbb6298-d034-4fb4-bd9e-7d41c49828b0"
      },
      "source": [
        "from matplotlib import pyplot as plt\n",
        "\n",
        "plt.plot(Epoch, train_loss4, Epoch, val_loss4)\n",
        "plt.title('GraphSage Loss')\n",
        "plt.legend(['Train','Validation '])\n",
        "plt.show()"
      ],
      "execution_count": null,
      "outputs": [
        {
          "output_type": "display_data",
          "data": {
            "image/png": "[encoded data removed]",
            "text/plain": [
              "<Figure size 432x288 with 1 Axes>"
            ]
          },
          "metadata": {
            "needs_background": "light"
          }
        }
      ]
    }
  ]
}